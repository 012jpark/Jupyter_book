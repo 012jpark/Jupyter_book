{
 "cells": [
  {
   "cell_type": "markdown",
   "metadata": {},
   "source": [
    "# 📘 LinkedList"
   ]
  },
  {
   "cell_type": "markdown",
   "metadata": {
    "id": "hFrqK5fC550O"
   },
   "source": [
    "# Import the ListNode class from the ListNode.py file"
   ]
  },
  {
   "cell_type": "code",
   "execution_count": 5,
   "metadata": {
    "colab": {
     "base_uri": "https://localhost:8080/"
    },
    "executionInfo": {
     "elapsed": 7,
     "status": "ok",
     "timestamp": 1743493019189,
     "user": {
      "displayName": "Ewha Biostat",
      "userId": "08955403781798893820"
     },
     "user_tz": -540
    },
    "id": "FiusF9GQ55iB",
    "outputId": "5eb5dd81-2dc4-4175-d87e-b7d329a5e4cb"
   },
   "outputs": [
    {
     "name": "stdout",
     "output_type": "stream",
     "text": [
      "<DataStructureCode.ListNode.ListNode object at 0x1047cc550>\n",
      "5\n",
      "None\n"
     ]
    }
   ],
   "source": [
    "# Import the ListNode class from the ListNode.py file\n",
    "from DataStructureCode.ListNode import *\n",
    "\n",
    "a = ListNode(data=5, nextNode=None)\n",
    "print(a)\n",
    "print(a.data)\n",
    "print(a.next)"
   ]
  },
  {
   "cell_type": "markdown",
   "metadata": {
    "id": "u2w6sbHgSETA"
   },
   "source": [
    "# Import the SimpleLinkedList class from the SimpleLinkedList.py file"
   ]
  },
  {
   "cell_type": "markdown",
   "metadata": {
    "id": "-oBV6Hz8UGgk"
   },
   "source": [
    "## Append, Insert"
   ]
  },
  {
   "cell_type": "code",
   "execution_count": 1,
   "metadata": {
    "colab": {
     "base_uri": "https://localhost:8080/"
    },
    "executionInfo": {
     "elapsed": 18,
     "status": "ok",
     "timestamp": 1743493121914,
     "user": {
      "displayName": "Ewha Biostat",
      "userId": "08955403781798893820"
     },
     "user_tz": -540
    },
    "id": "sDlXjSM1RrKH",
    "outputId": "ecec5c3d-48f0-4d01-d923-b8792a36ea11"
   },
   "outputs": [
    {
     "name": "stdout",
     "output_type": "stream",
     "text": [
      "Elements in the linked list: after adding 5 elements\n",
      "5 4 3 2 1 \n",
      "Elements in the linked list after inserting 10 in index 2: \n",
      "5 4 10 3 2 1 \n"
     ]
    }
   ],
   "source": [
    "from DataStructureCode.SimpleLinkedList import *\n",
    "\n",
    "a = SimpleLinkedList()\n",
    "print(\"Elements in the linked list: after adding 5 elements\" )\n",
    "a.append(5); a.append(4); a.append(3); a.append(2); a.append(1)\n",
    "a.printList()\n",
    "\n",
    "print(\"Elements in the linked list after inserting 10 in index 2: \" )\n",
    "a.insert(2,10)\n",
    "a.printList()"
   ]
  },
  {
   "cell_type": "markdown",
   "metadata": {
    "id": "vTRTG_FHShW4"
   },
   "source": [
    "## getNode"
   ]
  },
  {
   "cell_type": "code",
   "execution_count": 15,
   "metadata": {
    "colab": {
     "base_uri": "https://localhost:8080/"
    },
    "executionInfo": {
     "elapsed": 51,
     "status": "ok",
     "timestamp": 1743493166642,
     "user": {
      "displayName": "Ewha Biostat",
      "userId": "08955403781798893820"
     },
     "user_tz": -540
    },
    "id": "xvpPQNAbSgxF",
    "outputId": "5d1c64f9-8355-424c-a833-97d98a88fcab"
   },
   "outputs": [
    {
     "name": "stdout",
     "output_type": "stream",
     "text": [
      "Elements in the linked list: \n",
      "5 4 3 2 1 \n",
      "Elements in the linked list: \n",
      "5 4 3 2 1 <DataStructureCode.SimpleLinkedList.SimpleLinkedList object at 0x104de0730> \n",
      "Element in the 3rd index node of the linked list: \n"
     ]
    },
    {
     "data": {
      "text/plain": [
       "2"
      ]
     },
     "execution_count": 15,
     "metadata": {},
     "output_type": "execute_result"
    }
   ],
   "source": [
    "a = SimpleLinkedList()\n",
    "a.append(5); a.append(4); a.append(3); a.append(2); a.append(1)\n",
    "print(\"Elements in the linked list: \" )\n",
    "a.printList()\n",
    "\n",
    "b = SimpleLinkedList()\n",
    "b.append(2); b.append(4); b.append(6); b.append(8); b.append(10)\n",
    "a.append(b)\n",
    "print(\"Elements in the linked list: \" )\n",
    "a.printList()\n",
    "\n",
    "print(\"Element in the 3rd index node of the linked list: \" )\n",
    "b = a.getNode(3)\n",
    "b.data"
   ]
  },
  {
   "cell_type": "markdown",
   "metadata": {
    "id": "2bZNXU1MTAdF"
   },
   "source": [
    "## Remove"
   ]
  },
  {
   "cell_type": "code",
   "execution_count": null,
   "metadata": {
    "colab": {
     "base_uri": "https://localhost:8080/"
    },
    "executionInfo": {
     "elapsed": 7,
     "status": "ok",
     "timestamp": 1743493276042,
     "user": {
      "displayName": "Ewha Biostat",
      "userId": "08955403781798893820"
     },
     "user_tz": -540
    },
    "id": "ERNl6w-lS_3Q",
    "outputId": "e08fcdc2-de4a-494c-d30c-d5e4c007569a"
   },
   "outputs": [
    {
     "name": "stdout",
     "output_type": "stream",
     "text": [
      "Elements in the linked list: \n",
      "1 9 3 5 7 9 11 \n",
      "Elements in the linked list after removal: \n",
      "1 3 5 7 9 11 \n"
     ]
    }
   ],
   "source": [
    "a = SimpleLinkedList()\n",
    "a.append(1); a.append(3); a.append(5); a.append(7); a.append(11)\n",
    "a.insert(4,9)\n",
    "a.insert(1,9)\n",
    "print(\"Elements in the linked list: \" )\n",
    "a.printList()\n",
    "a.remove(9)\n",
    "print(\"Elements in the linked list after removal: \" )\n",
    "a.printList()"
   ]
  },
  {
   "cell_type": "markdown",
   "metadata": {
    "id": "MM7nw3cjT8zq"
   },
   "source": [
    "# Import the CircularLinkedList class from the CircularLinkedList.py file"
   ]
  },
  {
   "cell_type": "markdown",
   "metadata": {
    "id": "ie238tVBUAsy"
   },
   "source": [
    "## Append, Insert, getNode"
   ]
  },
  {
   "cell_type": "code",
   "execution_count": 25,
   "metadata": {
    "colab": {
     "base_uri": "https://localhost:8080/"
    },
    "executionInfo": {
     "elapsed": 17,
     "status": "ok",
     "timestamp": 1743493408212,
     "user": {
      "displayName": "Ewha Biostat",
      "userId": "08955403781798893820"
     },
     "user_tz": -540
    },
    "id": "wwNFV0N7TNiy",
    "outputId": "b6845313-70ce-4ca2-d4ad-0c9649ccd7eb"
   },
   "outputs": [
    {
     "name": "stdout",
     "output_type": "stream",
     "text": [
      "Elements in the linked list: \n",
      "5 4 3 2 1 \n",
      "Elements in the linked list: \n",
      "5 4 3 10 2 1 \n",
      "Element in the 3rd index of the linked list: \n"
     ]
    },
    {
     "data": {
      "text/plain": [
       "10"
      ]
     },
     "execution_count": 25,
     "metadata": {},
     "output_type": "execute_result"
    }
   ],
   "source": [
    "from DataStructureCode.CircularLinkedList import *\n",
    "a = CircularLinkedList()\n",
    "a.append(5); a.append(4); a.append(3); a.append(2); a.append(1)\n",
    "print(\"Elements in the linked list: \" )\n",
    "a.printList()\n",
    "\n",
    "print(\"Elements in the linked list: \" )\n",
    "a.insert(3,10)\n",
    "a.printList()\n",
    "\n",
    "print(\"Element in the 3rd index of the linked list: \" )\n",
    "b = a.getNode(3)\n",
    "b.data"
   ]
  },
  {
   "cell_type": "markdown",
   "metadata": {
    "id": "ECXmUx_7TmVO"
   },
   "source": [
    "## Pop"
   ]
  },
  {
   "cell_type": "code",
   "execution_count": 23,
   "metadata": {
    "colab": {
     "base_uri": "https://localhost:8080/"
    },
    "executionInfo": {
     "elapsed": 4,
     "status": "ok",
     "timestamp": 1743493429948,
     "user": {
      "displayName": "Ewha Biostat",
      "userId": "08955403781798893820"
     },
     "user_tz": -540
    },
    "id": "EqRfVZcdTmKy",
    "outputId": "5c4e98ad-210c-4920-b3aa-ecb90af0fa2a"
   },
   "outputs": [
    {
     "name": "stdout",
     "output_type": "stream",
     "text": [
      "Elements in the linked list: \n",
      "5 4 3 2 1 \n",
      "Remove an element in the 4th index:  1\n",
      "Element in the linked list after removal of 4th index: \n",
      "5 4 3 2 \n"
     ]
    }
   ],
   "source": [
    "a = CircularLinkedList()\n",
    "a.append(5); a.append(4); a.append(3); a.append(2); a.append(1)\n",
    "print(\"Elements in the linked list: \" )\n",
    "a.printList()\n",
    "print(\"Remove an element in the 4th index: \", a.pop(4) )\n",
    "print(\"Element in the linked list after removal of 4th index: \" )\n",
    "a.printList()"
   ]
  },
  {
   "cell_type": "markdown",
   "metadata": {
    "id": "IV3CcychTso6"
   },
   "source": [
    "## Get"
   ]
  },
  {
   "cell_type": "code",
   "execution_count": null,
   "metadata": {
    "colab": {
     "base_uri": "https://localhost:8080/"
    },
    "executionInfo": {
     "elapsed": 5,
     "status": "ok",
     "timestamp": 1743493453748,
     "user": {
      "displayName": "Ewha Biostat",
      "userId": "08955403781798893820"
     },
     "user_tz": -540
    },
    "id": "Famf5ntbTsdH",
    "outputId": "3e12ac1e-619a-4a86-bf6f-37404bfa6a71"
   },
   "outputs": [
    {
     "name": "stdout",
     "output_type": "stream",
     "text": [
      "Elements in the linked list: \n",
      "5 4 3 2 1 \n",
      "Get an element in the 4th index:  1\n",
      "Element in the linked list after using get: \n",
      "5 4 3 2 1 \n"
     ]
    }
   ],
   "source": [
    "a = CircularLinkedList()\n",
    "a.append(5); a.append(4); a.append(3); a.append(2); a.append(1)\n",
    "print(\"Elements in the linked list: \" )\n",
    "a.printList()\n",
    "print(\"Get an element in the 4th index: \", a.get(4) )\n",
    "print(\"Element in the linked list after using get: \" )\n",
    "a.printList()"
   ]
  },
  {
   "cell_type": "markdown",
   "metadata": {
    "id": "sTQOB0lAT4uS"
   },
   "source": [
    "# Explore Other Methods in SinglyLinkedList and CircularLinkedList Class"
   ]
  },
  {
   "cell_type": "code",
   "execution_count": 51,
   "metadata": {
    "id": "2ZQUaym-U2q0"
   },
   "outputs": [
    {
     "name": "stdout",
     "output_type": "stream",
     "text": [
      "5 4 3 2 1 47 54 \n"
     ]
    }
   ],
   "source": [
    "# append\n",
    "a = SimpleLinkedList()\n",
    "a.append(5); a.append(4); a.append(3); a.append(2); a.append(1)\n",
    "b = SimpleLinkedList()\n",
    "b.append(47); b.append(54) \n",
    "a.extend(b) ;\n",
    "a.printList()"
   ]
  },
  {
   "cell_type": "markdown",
   "metadata": {},
   "source": [
    "## New Question\n",
    "- remove duplicates"
   ]
  },
  {
   "cell_type": "code",
   "execution_count": 9,
   "metadata": {},
   "outputs": [
    {
     "name": "stdout",
     "output_type": "stream",
     "text": [
      "1 2 3 2 4 3 5 \n",
      "1 2 3 4 5 \n"
     ]
    }
   ],
   "source": [
    "from DataStructureCode.SimpleLinkedList import *\n",
    "\n",
    "def remove_dup(list):\n",
    "    check = set()\n",
    "    prev = list.head\n",
    "    curr = list.head.next\n",
    "    while curr:\n",
    "        if curr.data in check:\n",
    "            prev.next = curr.next\n",
    "            curr = curr.next\n",
    "            list.numItems -= 1\n",
    "        else:\n",
    "            check.add(curr.data)\n",
    "            prev = curr\n",
    "            curr =curr.next\n",
    "\n",
    "a = SimpleLinkedList()\n",
    "a.append(1); a.append(2); a.append(3); a.append(2); a.append(4); a.append(3); a.append(5); a.printList() \n",
    "\n",
    "remove_dup(a)\n",
    "a.printList() "
   ]
  },
  {
   "cell_type": "code",
   "execution_count": null,
   "metadata": {},
   "outputs": [],
   "source": [
    "\n"
   ]
  }
 ],
 "metadata": {
  "colab": {
   "authorship_tag": "ABX9TyNeHqNIEb6l/wea2UeVXrzz",
   "provenance": [],
   "toc_visible": true
  },
  "kernelspec": {
   "display_name": "myenv",
   "language": "python",
   "name": "python3"
  },
  "language_info": {
   "codemirror_mode": {
    "name": "ipython",
    "version": 3
   },
   "file_extension": ".py",
   "mimetype": "text/x-python",
   "name": "python",
   "nbconvert_exporter": "python",
   "pygments_lexer": "ipython3",
   "version": "3.9.21"
  }
 },
 "nbformat": 4,
 "nbformat_minor": 4
}
