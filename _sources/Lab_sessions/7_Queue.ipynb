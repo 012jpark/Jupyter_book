{
 "cells": [
  {
   "cell_type": "markdown",
   "metadata": {},
   "source": [
    "# 📘 Queue"
   ]
  },
  {
   "cell_type": "markdown",
   "metadata": {
    "id": "8uebtTngN9gS"
   },
   "source": [
    "## Import the ListQueue class from the ListQueue.py file"
   ]
  },
  {
   "cell_type": "code",
   "execution_count": 2,
   "metadata": {
    "colab": {
     "base_uri": "https://localhost:8080/"
    },
    "executionInfo": {
     "elapsed": 4582,
     "status": "ok",
     "timestamp": 1744695163799,
     "user": {
      "displayName": "Ewha Biostat",
      "userId": "08955403781798893820"
     },
     "user_tz": -540
    },
    "id": "0U4jqshMKJpJ",
    "outputId": "128e7836-a36d-4598-ec7d-ff84dfbd4b10"
   },
   "outputs": [
    {
     "name": "stdout",
     "output_type": "stream",
     "text": [
      "Elements from front to end: \n",
      "Mon Tue Wed Thurs Fri \n",
      "Dequeue: remove an element from the front of the queue:  Mon\n",
      "Elements from front to end: \n",
      "Tue Wed Thurs Fri "
     ]
    }
   ],
   "source": [
    "from DataStructureCode.ListQueue import *\n",
    "queue = ListQueue()\n",
    "queue.enqueue(\"Mon\"); queue.enqueue(\"Tue\"); queue.enqueue(\"Wed\"); queue.enqueue(\"Thurs\"); queue.enqueue(\"Fri\")\n",
    "queue.printQueue()\n",
    "print(\"\\nDequeue: remove an element from the front of the queue: \", queue.dequeue())\n",
    "queue.printQueue()"
   ]
  },
  {
   "cell_type": "markdown",
   "metadata": {
    "id": "Vm-KGr9wPYTK"
   },
   "source": [
    "# Exercises!"
   ]
  },
  {
   "cell_type": "markdown",
   "metadata": {
    "id": "0wyCDIMyKG4E"
   },
   "source": [
    "## Create your LinkedQueue.py"
   ]
  },
  {
   "cell_type": "code",
   "execution_count": 1,
   "metadata": {
    "id": "Qmvfhn5WCuoa"
   },
   "outputs": [],
   "source": [
    "from DataStructureCode.CircularLinkedList import *\n",
    "\n",
    "class LinkedQueue:\n",
    "\tdef __init__(self):\n",
    "\t\tself.queue = CircularLinkedList()\n",
    "\n",
    "\n",
    "\tdef enqueue(self, x): # insert an element to the end of the queue\n",
    "\t\tself.queue.append(x)\n",
    "\t\t\n",
    "\n",
    "\tdef dequeue(self): # remove an element from the front of the queue\n",
    "\t\tself.queue.pop()\n",
    "\n",
    "\tdef front(self): # returns the front node of the queue without deleting it\n",
    "\t\treturn self.queue.get(0)\n",
    "\n",
    "\tdef isEmpty(self) -> bool: # returns true if queue is empty, else false.\n",
    "\t\treturn self.queue.isEmpty()\n",
    "\n",
    "\tdef dequeueAll(self): # clean the queue\n",
    "\t\tself.queue.clear()\n",
    "\n",
    "\n",
    "\tdef size(self): # clean the queue\n",
    "\t\treturn self.queue.size()\n",
    "\n",
    "\tdef printQueue(self): # print elements from front to end\n",
    "\t\tfor i in range(self.queue.size()):\n",
    "\t\t\tthis = self.queue.get(i)\n",
    "\t\t\tprint(f\"{this}\")\n"
   ]
  },
  {
   "cell_type": "code",
   "execution_count": 2,
   "metadata": {
    "colab": {
     "base_uri": "https://localhost:8080/"
    },
    "executionInfo": {
     "elapsed": 1387,
     "status": "ok",
     "timestamp": 1744695174170,
     "user": {
      "displayName": "Ewha Biostat",
      "userId": "08955403781798893820"
     },
     "user_tz": -540
    },
    "id": "Fj6px8NLKHC2",
    "outputId": "7bfdba64-d4b1-40c7-fd61-05aeef3bc4b8"
   },
   "outputs": [
    {
     "name": "stdout",
     "output_type": "stream",
     "text": [
      "Mon Tue Wed Thurs Fri \n",
      "\n",
      "Dequeue: remove an element from the front of the queue:  Mon\n",
      "Tue Wed Thurs Fri \n"
     ]
    }
   ],
   "source": [
    "from DataStructureCode.LinkedQueue import *\n",
    "queue = LinkedQueue()\n",
    "queue.enqueue(\"Mon\"); queue.enqueue(\"Tue\"); queue.enqueue(\"Wed\"); queue.enqueue(\"Thurs\"); queue.enqueue(\"Fri\")\n",
    "queue.printQueue()\n",
    "print(\"\\nDequeue: remove an element from the front of the queue: \", queue.dequeue())\n",
    "queue.printQueue()"
   ]
  },
  {
   "cell_type": "markdown",
   "metadata": {
    "id": "aCz_Cy1oPa6u"
   },
   "source": [
    "## Reverse: Queue\n",
    "\n",
    "1. Suppose you have a queue. Create a function that reverses individual characters in a string using a queue. This time make the original queue to be reversed.\n",
    "2. Try to add `reverse()` method to the ListQueue class."
   ]
  },
  {
   "cell_type": "code",
   "execution_count": 3,
   "metadata": {
    "colab": {
     "base_uri": "https://localhost:8080/"
    },
    "executionInfo": {
     "elapsed": 10,
     "status": "ok",
     "timestamp": 1744696992292,
     "user": {
      "displayName": "Ewha Biostat",
      "userId": "08955403781798893820"
     },
     "user_tz": -540
    },
    "id": "tSZOAgpDPazI",
    "outputId": "25a0de20-2af4-4b10-e775-cc1b9131f3f7"
   },
   "outputs": [
    {
     "name": "stdout",
     "output_type": "stream",
     "text": [
      "Mon Tue Wed Thurs Fri \n",
      "After Reversing the queue:\n",
      "Fri Thurs Wed Tue Mon \n"
     ]
    }
   ],
   "source": [
    "from DataStructureCode.LinkedQueue import *\n",
    "queue = LinkedQueue()\n",
    "queue.enqueue(\"Mon\"); queue.enqueue(\"Tue\"); queue.enqueue(\"Wed\"); queue.enqueue(\"Thurs\"); queue.enqueue(\"Fri\")\n",
    "queue.printQueue()\n",
    "\n",
    "def reverseQueue(queue):\n",
    "    if queue.isEmpty():\n",
    "        return\n",
    "    item = queue.dequeue()\n",
    "    reverseQueue(queue)\n",
    "    queue.enqueue(item)\n",
    "\n",
    "reverseQueue(queue)\n",
    "print(\"After Reversing the queue:\")\n",
    "queue.printQueue()"
   ]
  },
  {
   "cell_type": "markdown",
   "metadata": {
    "id": "u2DlphfyDJTw"
   },
   "source": [
    "## Palindrome\n",
    "\n",
    "*   Palindrome is word, phrase, or sequence that reads the same backward as forward (e.g. madam, mom, kayak). Write a function that checks if a string is palindrome using stack and queue data structure.\n",
    "\n"
   ]
  },
  {
   "cell_type": "code",
   "execution_count": 22,
   "metadata": {
    "colab": {
     "base_uri": "https://localhost:8080/"
    },
    "executionInfo": {
     "elapsed": 6,
     "status": "ok",
     "timestamp": 1744697915701,
     "user": {
      "displayName": "Ewha Biostat",
      "userId": "08955403781798893820"
     },
     "user_tz": -540
    },
    "id": "OSVrjh_LDItk",
    "outputId": "803b2976-ea2c-4acb-d75e-947c3b1486fa"
   },
   "outputs": [
    {
     "name": "stdout",
     "output_type": "stream",
     "text": [
      "civic is Palindrome?:  True\n"
     ]
    }
   ],
   "source": [
    "from DataStructureCode.ListStack import *\n",
    "from DataStructureCode.ListQueue import *\n",
    "\n",
    "def isPalindrome(A):\n",
    "     A = list(A)\n",
    "     Q = ListQueue()\n",
    "     S = ListStack()\n",
    "     for a in A:\n",
    "          Q.enqueue(a)\n",
    "          S.push(a)\n",
    "     if S.pop() == Q.dequeue():\n",
    "          return True\n",
    "     else:\n",
    "          return False\n",
    "str = 'civic'\n",
    "print(str, \"is Palindrome?: \", isPalindrome(str))"
   ]
  },
  {
   "cell_type": "markdown",
   "metadata": {
    "id": "F-HpVpjJJstO"
   },
   "source": [
    "## Fun Example: in your Python, try the below"
   ]
  },
  {
   "cell_type": "code",
   "execution_count": null,
   "metadata": {},
   "outputs": [],
   "source": [
    "select = input(\"Choose one of the followings (I/D/X): Insert(I)/Delete(D)/Exit(X) ==> \")\n",
    "queue = ListQueue()\n",
    "while (select != \"X\" and select != \"x\"):\n",
    "  if select==\"I\" or select ==\"i\" :\n",
    "    data = input(\"Type Input Data ==> \")\n",
    "    queue.enqueue(data)\n",
    "    print(queue.size(), \"number of elements, front : \", queue.front(), \", rear : \", queue.queue[queue.size()-1])\n",
    "  elif select==\"D\" or select ==\"d\":\n",
    "    print(\"Dequeue: removed an element from the front of the queue: \", queue.dequeue())\n",
    "    print(queue.size(), \"number of elements, front : \", queue.front(), \", rear : \", queue.queue[queue.size()-1])\n",
    "  else :\n",
    "    print(\"Wrong Insertion - should choose on of the followings (I/D/X): Insert(I)/Delete(D)/Exit(X)\")\n",
    "    select = input(\"Choose one of the followings (I/D/X): Insert(I)/Delete(D)/Exit(X) ==> \")\n",
    "    print(\"Terminate the program!\")"
   ]
  },
  {
   "cell_type": "markdown",
   "metadata": {},
   "source": [
    "## New Question\n",
    "- compare queue elements"
   ]
  },
  {
   "cell_type": "code",
   "execution_count": 34,
   "metadata": {},
   "outputs": [
    {
     "name": "stdout",
     "output_type": "stream",
     "text": [
      "same?: [False, True, False]\n"
     ]
    }
   ],
   "source": [
    "from DataStructureCode.ListQueue import *\n",
    "q = ListQueue()\n",
    "q2 = ListQueue()\n",
    "q.enqueue('a'); q.enqueue('b'); q.enqueue('c')\n",
    "q2.enqueue('c'); q2.enqueue('b'); q2.enqueue('d')\n",
    "\n",
    "def compare(q1, q2):\n",
    "    result = []\n",
    "\n",
    "    if q1.size() != q2.size():\n",
    "        print(\"length is not same\")\n",
    "\n",
    "    while not q1.isEmpty() and not q2.isEmpty():\n",
    "        if q1.dequeue() == q2.dequeue():\n",
    "            result.append(True)\n",
    "        else:\n",
    "            result.append(False)\n",
    "\n",
    "    return result\n",
    "\n",
    "print(\"same?:\", compare(q,q2))"
   ]
  },
  {
   "cell_type": "code",
   "execution_count": null,
   "metadata": {},
   "outputs": [],
   "source": []
  }
 ],
 "metadata": {
  "colab": {
   "authorship_tag": "ABX9TyPp+V9n4yvsysrjaQWV9xqH",
   "provenance": [],
   "toc_visible": true
  },
  "kernelspec": {
   "display_name": "myenv",
   "language": "python",
   "name": "python3"
  },
  "language_info": {
   "codemirror_mode": {
    "name": "ipython",
    "version": 3
   },
   "file_extension": ".py",
   "mimetype": "text/x-python",
   "name": "python",
   "nbconvert_exporter": "python",
   "pygments_lexer": "ipython3",
   "version": "3.9.21"
  }
 },
 "nbformat": 4,
 "nbformat_minor": 4
}
