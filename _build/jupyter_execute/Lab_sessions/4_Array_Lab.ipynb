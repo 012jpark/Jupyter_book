{
 "cells": [
  {
   "cell_type": "markdown",
   "metadata": {},
   "source": [
    "# 📘 Array"
   ]
  },
  {
   "cell_type": "markdown",
   "metadata": {
    "id": "hFrqK5fC550O"
   },
   "source": [
    "# Import Array.py Module"
   ]
  },
  {
   "cell_type": "code",
   "execution_count": 1,
   "metadata": {
    "colab": {
     "base_uri": "https://localhost:8080/"
    },
    "executionInfo": {
     "elapsed": 12,
     "status": "ok",
     "timestamp": 1742886185352,
     "user": {
      "displayName": "Ewha Biostat",
      "userId": "08955403781798893820"
     },
     "user_tz": -540
    },
    "id": "FiusF9GQ55iB",
    "outputId": "e97b58b2-695f-43dd-d549-4ee9e5176b5e"
   },
   "outputs": [
    {
     "ename": "ModuleNotFoundError",
     "evalue": "No module named 'Array'",
     "output_type": "error",
     "traceback": [
      "\u001b[0;31m---------------------------------------------------------------------------\u001b[0m",
      "\u001b[0;31mModuleNotFoundError\u001b[0m                       Traceback (most recent call last)",
      "Cell \u001b[0;32mIn[1], line 3\u001b[0m\n\u001b[1;32m      1\u001b[0m \u001b[38;5;66;03m# Import the Array class from the Array.py file\u001b[39;00m\n\u001b[1;32m      2\u001b[0m \u001b[38;5;66;03m# from Array import *\u001b[39;00m\n\u001b[0;32m----> 3\u001b[0m \u001b[38;5;28;01mfrom\u001b[39;00m\u001b[38;5;250m \u001b[39m\u001b[38;5;21;01mArray\u001b[39;00m\u001b[38;5;250m \u001b[39m\u001b[38;5;28;01mimport\u001b[39;00m MyArray\n\u001b[1;32m      5\u001b[0m \u001b[38;5;66;03m# Create an instance of the Array class\u001b[39;00m\n\u001b[1;32m      6\u001b[0m arr \u001b[38;5;241m=\u001b[39m MyArray([\u001b[38;5;241m1\u001b[39m, \u001b[38;5;241m2\u001b[39m, \u001b[38;5;241m3\u001b[39m, \u001b[38;5;241m4\u001b[39m, \u001b[38;5;241m5\u001b[39m])\n",
      "\u001b[0;31mModuleNotFoundError\u001b[0m: No module named 'Array'"
     ]
    }
   ],
   "source": [
    "# Import the Array class from the Array.py file\n",
    "# from Array import *\n",
    "from Array import MyArray\n",
    "\n",
    "# Create an instance of the Array class\n",
    "arr = MyArray([1, 2, 3, 4, 5])\n",
    "\n",
    "# Print the original array\n",
    "print(\"Original array:\", arr.array)\n",
    "\n",
    "# Insert 6 at the last index (after the last element)\n",
    "arr.myInsert(6, len(arr.array))  # Inserts 6 at the end\n",
    "print(\"After insertion:\", arr.array)\n",
    "\n",
    "# Remove element 5 from the array\n",
    "arr.myRemove(5)  # Removes element 5 from the array\n",
    "print(\"After removal:\", arr.array)\n",
    "\n",
    "# Find index for element 3\n",
    "arr.myIndex(3)"
   ]
  },
  {
   "cell_type": "markdown",
   "metadata": {
    "id": "p3b3bDBni-gY"
   },
   "source": [
    "# Example 1: Time Complexity\n",
    "\n",
    "What is the time complexity of access, search, insertion, deletion of array data structure? Explain why.\n"
   ]
  },
  {
   "cell_type": "code",
   "execution_count": null,
   "metadata": {
    "id": "9ppWH1oJnAxE"
   },
   "outputs": [],
   "source": [
    "import numpy as np\n",
    "\n",
    "class MyArray:\n",
    "    def __init__(self, input_list):\n",
    "        self.array = np.array(input_list, dtype=\"i\")\n",
    "\n",
    "    def myInsert(self, x, i):\n",
    "        new_array = np.empty(len(self.array) + 1, dtype=\"i\")\n",
    "        new_array[:len(self.array)] = self.array\n",
    "        n = len(new_array)\n",
    "\n",
    "        # Shift elements to the right\n",
    "        for idx in range(n - 2, i - 1, -1):\n",
    "            new_array[idx + 1] = new_array[idx]\n",
    "\n",
    "        new_array[i] = x\n",
    "        self.array = new_array  # Update self.array\n",
    "        return self.array\n",
    "\n",
    "    def myIndex(self, x):\n",
    "        n = len(self.array)\n",
    "        for idx in range(n):\n",
    "            if self.array[idx] == x:\n",
    "                return idx\n",
    "        return -1  # If the key is not found\n",
    "\n",
    "    def myDelete(self, i):\n",
    "        n = len(self.array)\n",
    "\n",
    "        # Shift elements to the left\n",
    "        for idx in range(i + 1, n):\n",
    "            self.array[idx - 1] = self.array[idx]\n",
    "\n",
    "        self.array = self.array[:n - 1]  # Update self.array\n",
    "        return self.array\n",
    "\n",
    "    def myRemove(self, x):\n",
    "        i = self.myIndex(x)\n",
    "        if i == -1:\n",
    "            print(\"Element not found.\")\n",
    "            return self.array\n",
    "\n",
    "        print(\"Element found at position:\", i)\n",
    "        self.myDelete(i)\n",
    "        return self.array"
   ]
  },
  {
   "cell_type": "markdown",
   "metadata": {
    "id": "BiqXuIWY_kwM"
   },
   "source": [
    "# Example 2\n",
    "\n",
    "Explore and compare the differences between Python lists and array data structures. Use online resources and feel free to utilize generative AI chatbots to aid in your understanding. Consider the following aspects in your exploration:\n",
    "\n",
    "* **Storage structure**: How do Python lists and arrays store data in memory? Are they contiguous or non-contiguous?\n",
    "\n",
    "* **Performance**: How do their performance characteristics differ for various operations such as indexing, insertion, and deletion?\n",
    "\n",
    "* **Type of elements**: Are Python lists and arrays restricted to a single data type, or can they store elements of mixed types? How does this affect performance?\n",
    "\n",
    "* **Dynamic vs Static**: How do Python lists (dynamic arrays) and static arrays differ in terms of resizing and memory allocation?\n",
    "\n",
    "* **Access and manipulation**: How do access and manipulation operations differ between Python lists and arrays?\n"
   ]
  },
  {
   "cell_type": "code",
   "execution_count": null,
   "metadata": {
    "id": "SFS0ebkT_knM"
   },
   "outputs": [],
   "source": [
    "# python list can contain different types of elements not like array\n",
    "# python: dynamic, array: static\n",
    "# python is easier to access and manipulate"
   ]
  },
  {
   "cell_type": "markdown",
   "metadata": {
    "id": "xyX0RlbqAQqA"
   },
   "source": [
    "\n",
    "# Example 3\n",
    "\n",
    "Create a function that output unique elements in a given array. Unique means distinct elements. What is the time complexity of the algorithm?\n"
   ]
  },
  {
   "cell_type": "code",
   "execution_count": 9,
   "metadata": {
    "colab": {
     "base_uri": "https://localhost:8080/"
    },
    "executionInfo": {
     "elapsed": 6,
     "status": "ok",
     "timestamp": 1742886189800,
     "user": {
      "displayName": "Ewha Biostat",
      "userId": "08955403781798893820"
     },
     "user_tz": -540
    },
    "id": "P0NSbGtdnrSm",
    "outputId": "fabdd95c-3dc2-4763-fe17-c4c96a299c12"
   },
   "outputs": [
    {
     "name": "stdout",
     "output_type": "stream",
     "text": [
      "[1, 2, 3, 4, 5, 6, 7]\n"
     ]
    }
   ],
   "source": [
    "def unique(arr):\n",
    "    arr_unique =[]\n",
    "    for element in arr:\n",
    "        if element not in arr_unique:\n",
    "            arr_unique.append(element)\n",
    "\n",
    "    print(arr_unique)\n",
    "\n",
    "\n",
    "a = [1, 2, 2, 3, 4, 5, 5, 6, 7, 7]\n",
    "unique(a)\n"
   ]
  },
  {
   "cell_type": "markdown",
   "metadata": {
    "id": "tuQ1MsZFg9Zv"
   },
   "source": [
    "# Example 4\n",
    "\n",
    "Create a function that returns how many number of elements are odd and even elements in the array.\n"
   ]
  },
  {
   "cell_type": "code",
   "execution_count": 10,
   "metadata": {
    "id": "CjEEiGleg9Cz"
   },
   "outputs": [
    {
     "name": "stdout",
     "output_type": "stream",
     "text": [
      "odd: 6, even: 4\n"
     ]
    }
   ],
   "source": [
    "def EvenOdd(arr):\n",
    "    odd = 0\n",
    "    even = 0\n",
    "    for element in a:\n",
    "        if element % 2 == 1:\n",
    "            odd += 1\n",
    "        else: \n",
    "            even += 1\n",
    "    print(f\"odd: {odd}, even: {even}\")\n",
    "\n",
    "a = [1, 2, 2, 3, 4, 5, 5, 6, 7, 7]\n",
    "EvenOdd(a)"
   ]
  },
  {
   "cell_type": "code",
   "execution_count": null,
   "metadata": {},
   "outputs": [],
   "source": []
  }
 ],
 "metadata": {
  "colab": {
   "authorship_tag": "ABX9TyNhC5Iuo4ymriIuWS1Sxjih",
   "provenance": [],
   "toc_visible": true
  },
  "kernelspec": {
   "display_name": "Python 3 (ipykernel)",
   "language": "python",
   "name": "python3"
  },
  "language_info": {
   "codemirror_mode": {
    "name": "ipython",
    "version": 3
   },
   "file_extension": ".py",
   "mimetype": "text/x-python",
   "name": "python",
   "nbconvert_exporter": "python",
   "pygments_lexer": "ipython3",
   "version": "3.9.6"
  }
 },
 "nbformat": 4,
 "nbformat_minor": 4
}