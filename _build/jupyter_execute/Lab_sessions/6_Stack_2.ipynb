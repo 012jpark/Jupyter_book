{
 "cells": [
  {
   "cell_type": "markdown",
   "metadata": {},
   "source": [
    "# 📘 Stack2"
   ]
  },
  {
   "cell_type": "markdown",
   "metadata": {
    "id": "hFrqK5fC550O"
   },
   "source": [
    "## Import the ListStack class from the ListStack.py file"
   ]
  },
  {
   "cell_type": "code",
   "execution_count": 1,
   "metadata": {
    "colab": {
     "base_uri": "https://localhost:8080/"
    },
    "executionInfo": {
     "elapsed": 13,
     "status": "ok",
     "timestamp": 1744094673492,
     "user": {
      "displayName": "Ewha Biostat",
      "userId": "08955403781798893820"
     },
     "user_tz": -540
    },
    "id": "FiusF9GQ55iB",
    "outputId": "e6df0e3d-c6a1-4c3c-fee5-c644c61c5594"
   },
   "outputs": [
    {
     "ename": "ModuleNotFoundError",
     "evalue": "No module named 'DataStructureCode'",
     "output_type": "error",
     "traceback": [
      "\u001b[0;31m---------------------------------------------------------------------------\u001b[0m",
      "\u001b[0;31mModuleNotFoundError\u001b[0m                       Traceback (most recent call last)",
      "Cell \u001b[0;32mIn[1], line 2\u001b[0m\n\u001b[1;32m      1\u001b[0m \u001b[38;5;66;03m# Import the ListStack class from the ListNode.py file\u001b[39;00m\n\u001b[0;32m----> 2\u001b[0m \u001b[38;5;28;01mfrom\u001b[39;00m\u001b[38;5;250m \u001b[39m\u001b[38;5;21;01mDataStructureCode\u001b[39;00m\u001b[38;5;21;01m.\u001b[39;00m\u001b[38;5;21;01mListStack\u001b[39;00m\u001b[38;5;250m \u001b[39m\u001b[38;5;28;01mimport\u001b[39;00m \u001b[38;5;241m*\u001b[39m\n\u001b[1;32m      3\u001b[0m stack \u001b[38;5;241m=\u001b[39m ListStack()\n\u001b[1;32m      4\u001b[0m stack\u001b[38;5;241m.\u001b[39mpush(\u001b[38;5;241m100\u001b[39m); stack\u001b[38;5;241m.\u001b[39mpush(\u001b[38;5;241m200\u001b[39m); stack\u001b[38;5;241m.\u001b[39mpush(\u001b[38;5;241m300\u001b[39m); stack\u001b[38;5;241m.\u001b[39mpush(\u001b[38;5;241m400\u001b[39m)\n",
      "\u001b[0;31mModuleNotFoundError\u001b[0m: No module named 'DataStructureCode'"
     ]
    }
   ],
   "source": [
    "# Import the ListStack class from the ListNode.py file\n",
    "from DataStructureCode.ListStack import *\n",
    "stack = ListStack()\n",
    "stack.push(100); stack.push(200); stack.push(300); stack.push(400)\n",
    "stack.printStack()\n",
    "print(\"Top after pushes: \", stack.top())\n",
    "print(\"Remove an element from top: \", stack.pop())\n",
    "stack.printStack()\n",
    "print('Is the stack empty?', stack.isEmpty())\n",
    "print('Number of element in the stack?', stack.size())"
   ]
  },
  {
   "cell_type": "markdown",
   "metadata": {
    "id": "SEfG4X63JIEX"
   },
   "source": [
    "## Import the LinkedStack class from the LinkedStack.py file"
   ]
  },
  {
   "cell_type": "code",
   "execution_count": null,
   "metadata": {
    "colab": {
     "base_uri": "https://localhost:8080/"
    },
    "executionInfo": {
     "elapsed": 659,
     "status": "ok",
     "timestamp": 1744094731885,
     "user": {
      "displayName": "Ewha Biostat",
      "userId": "08955403781798893820"
     },
     "user_tz": -540
    },
    "id": "dIwaQ_zTJH1v",
    "outputId": "d3a5b7ff-8bc6-4007-9593-2a2ee1f91b6b"
   },
   "outputs": [
    {
     "name": "stdout",
     "output_type": "stream",
     "text": [
      "Elements from top to bottom:  400 300 200 100 Top after pushes:  400\n",
      "Remove an element from top:  400\n",
      "Elements from top to bottom:  300 200 100 Is the stack empty? False\n",
      "Number of element in the stack? 3\n"
     ]
    }
   ],
   "source": [
    "# Import the ListNode class from the ListNode.py file\n",
    "from DataStructureCode.LinkedStack import *\n",
    "stack = LinkedStack()\n",
    "stack.push(100); stack.push(200); stack.push(300); stack.push(400)\n",
    "stack.printStack()\n",
    "print(\"Top after pushes: \", stack.top())\n",
    "print(\"Remove an element from top: \", stack.pop())\n",
    "stack.printStack()\n",
    "print('Is the stack empty?', stack.isEmpty())\n",
    "print('Number of element in the stack?', stack.size())"
   ]
  },
  {
   "cell_type": "markdown",
   "metadata": {
    "id": "Vm-KGr9wPYTK"
   },
   "source": [
    "# Exercises!"
   ]
  },
  {
   "cell_type": "markdown",
   "metadata": {
    "id": "aCz_Cy1oPa6u"
   },
   "source": [
    "## Reverse: Stack\n",
    "\n",
    "1. Create a function that reverses the characters in a string using a stack, without modifying the original stack.\n",
    "\n",
    "2. Create a function that reverses a given stack using another stack.\n",
    "This function should modify the original stack.\n",
    "\n",
    "3. Add a second reverse() method to the ListStack class to implement the behavior described in (2)."
   ]
  },
  {
   "cell_type": "code",
   "execution_count": null,
   "metadata": {
    "colab": {
     "base_uri": "https://localhost:8080/"
    },
    "executionInfo": {
     "elapsed": 14,
     "status": "ok",
     "timestamp": 1744096586908,
     "user": {
      "displayName": "Ewha Biostat",
      "userId": "08955403781798893820"
     },
     "user_tz": -540
    },
    "id": "tSZOAgpDPazI",
    "outputId": "03770de2-58c7-467d-a87d-4801ea6b04be"
   },
   "outputs": [
    {
     "name": "stdout",
     "output_type": "stream",
     "text": [
      "Elements from top to bottom: \n",
      "400 300 200 100 \n",
      "Elements from top to bottom: \n",
      "100 200 300 400 \n"
     ]
    }
   ],
   "source": [
    "stack = ListStack()\n",
    "stack.push(100); stack.push(200); stack.push(300); stack.push(400)\n",
    "stack.printStack()\n",
    "\n",
    "# a function that reverses the characters in a string using a stack, without modifying the original stack.\n",
    "\n",
    "def reverse(original_stack):\n",
    "    a = ListStack()\n",
    "    for i in original_stack.stack:\n",
    "        a.push(i)\n",
    "    rev = ListStack()\n",
    "    for i in range(original_stack.size()-1, -1, -1):\n",
    "        rev.push(a.top())\n",
    "        a.pop()\n",
    "    return rev\n",
    "\n",
    "\n",
    "rev_stack = reverse(stack)\n",
    "rev_stack.printStack()"
   ]
  },
  {
   "cell_type": "code",
   "execution_count": null,
   "metadata": {
    "colab": {
     "base_uri": "https://localhost:8080/"
    },
    "executionInfo": {
     "elapsed": 21,
     "status": "ok",
     "timestamp": 1744098157691,
     "user": {
      "displayName": "Ewha Biostat",
      "userId": "08955403781798893820"
     },
     "user_tz": -540
    },
    "id": "OslzmbofUz7R",
    "outputId": "d1a2dade-7ca7-47f6-d638-cfddeaa76cca"
   },
   "outputs": [
    {
     "name": "stdout",
     "output_type": "stream",
     "text": [
      "Elements from top to bottom: \n",
      "400 300 200 100 \n",
      "Reversed (in-place) stack:\n",
      "Elements from top to bottom: \n",
      "100 200 300 400 \n"
     ]
    }
   ],
   "source": [
    "# A function that reverses a given stack using another stack. This function should modify the original stack.\n",
    "def reverseInPlace(stack):\n",
    "    a = ListStack()\n",
    "    for i in stack.stack:\n",
    "        a.push(i)\n",
    "    while stack.size() != 0:\n",
    "        stack.pop()\n",
    "    for i in range(a.size()-1, -1, -1):\n",
    "        stack.push(a.top())\n",
    "        a.pop()\n",
    "\n",
    "stack = ListStack()\n",
    "stack.push(100); stack.push(200); stack.push(300); stack.push(400)\n",
    "stack.printStack()\n",
    "\n",
    "print(\"Reversed (in-place) stack:\")\n",
    "reverseInPlace(stack)\n",
    "stack.printStack()"
   ]
  },
  {
   "cell_type": "markdown",
   "metadata": {
    "id": "F-HpVpjJJstO"
   },
   "source": [
    "## Fun Example: in your Python, try the below"
   ]
  },
  {
   "cell_type": "code",
   "execution_count": null,
   "metadata": {
    "id": "UNXlokiiJtRn"
   },
   "outputs": [],
   "source": [
    "import webbrowser\n",
    "import time\n",
    "import sys\n",
    "stack = ListStack()\n",
    "urls = [ \"naver.com\", \"daum.net\", \"nate.com\"]\n",
    "# Browser history stacks up in the order in which you visit websites\n",
    "# push url of each visited websites to a stack\n",
    "for url in urls:\n",
    "  stack.push(url)\n",
    "  # When you hit the back button, the previous URL is popped from the stack.\n",
    "\n",
    "while not stack.isEmpty(): # if stack is not empty\n",
    "  url = stack.pop() # pop the previous URL and open the browser\n",
    "  webbrowser.open('http://'+url)"
   ]
  }
 ],
 "metadata": {
  "colab": {
   "authorship_tag": "ABX9TyPtFTOwAyfotmbpi1LL40kj",
   "provenance": [],
   "toc_visible": true
  },
  "kernelspec": {
   "display_name": "Python 3 (ipykernel)",
   "language": "python",
   "name": "python3"
  },
  "language_info": {
   "codemirror_mode": {
    "name": "ipython",
    "version": 3
   },
   "file_extension": ".py",
   "mimetype": "text/x-python",
   "name": "python",
   "nbconvert_exporter": "python",
   "pygments_lexer": "ipython3",
   "version": "3.9.6"
  }
 },
 "nbformat": 4,
 "nbformat_minor": 4
}